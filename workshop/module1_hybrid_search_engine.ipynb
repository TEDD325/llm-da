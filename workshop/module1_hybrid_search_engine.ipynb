{
 "cells": [
  {
   "cell_type": "markdown",
   "id": "e95e9105",
   "metadata": {},
   "source": [
    "# 모듈 1: LLM 기반 하이브리드 검색 엔진\n",
    "\n",
    "## 학습 목표\n",
    "- 키워드 기반 검색(BM25)과 의미 기반 검색(FAISS)의 작동 원리 이해\n",
    "- 하이브리드 검색 시스템 구현 방법 습득\n",
    "- OpenAI 임베딩을 활용한 벡터 검색 최적화 기법 학습\n",
    "\n",
    "## 1. 하이브리드 검색의 필요성\n",
    "\n",
    "### 키워드 검색과 의미 검색의 한계\n",
    "\n",
    "**키워드 검색(BM25)의 한계:**\n",
    "- 동의어 인식 불가 (예: \"불만\" vs \"불평\")\n",
    "- 맥락 이해 부족 (\"시스템이 느리다\" vs \"응답 속도가 늦다\")\n",
    "- 관련 문서이지만 정확한 키워드가 없으면 검색 실패\n",
    "\n",
    "**의미 검색(FAISS)의 한계:**\n",
    "- 정확한 키워드 매칭에 약함\n",
    "- 계산 비용이 높음\n",
    "- 임베딩 모델의 품질에 의존적\n",
    "\n",
    "### 하이브리드 접근법의 이점"
   ]
  },
  {
   "cell_type": "code",
   "execution_count": null,
   "id": "bead38b3",
   "metadata": {},
   "outputs": [],
   "source": [
    "# 단일 방식 대비 하이브리드 방식의 성능 향상 사례\n",
    "# Recall@5 기준 (동일 데이터셋)\n",
    "performance_comparison = {\n",
    "    \"BM25만 사용\": \"67%\",\n",
    "    \"FAISS만 사용\": \"73%\",\n",
    "    \"하이브리드 방식\": \"89%\"  # 두 방식의 장점을 결합\n",
    "}"
   ]
  },
  {
   "cell_type": "markdown",
   "id": "4fbbcf95",
   "metadata": {},
   "source": [
    "## 2. BM25 검색기 구현\n",
    "\n",
    "### BM25 알고리즘 이해\n",
    "\n",
    "BM25는 TF-IDF의 개선된 버전으로, 다음 요소를 고려합니다:\n",
    "- 단어 빈도(TF) 포화 함수\n",
    "- 문서 길이 정규화\n",
    "- 역문서 빈도(IDF) 가중치\n",
    "\n",
    "### 코드 구현"
   ]
  },
  {
   "cell_type": "code",
   "execution_count": null,
   "id": "cdce21ab",
   "metadata": {},
   "outputs": [],
   "source": [
    "from langchain_community.retrievers import BM25Retriever\n",
    "\n",
    "def create_bm25_retriever(documents, top_k=3):\n",
    "    \"\"\"BM25 검색기 생성\"\"\"\n",
    "    retriever = BM25Retriever.from_documents(documents)\n",
    "    retriever.k = top_k\n",
    "    return retriever\n",
    "    \n",
    "# 사용 예시\n",
    "bm25_results = bm25_retriever.invoke(\"고객이 제품 배송에 불만을 표시했습니다\")"
   ]
  },
  {
   "cell_type": "markdown",
   "id": "bc2c1df0",
   "metadata": {},
   "source": [
    "**실습**: BM25 검색에서 다양한 `k` 값 실험과 그 영향 분석\n",
    "\n",
    "## 3. 벡터 검색(FAISS) 구현\n",
    "\n",
    "### 문서 임베딩의 원리\n",
    "\n",
    "텍스트를 고차원 벡터 공간에 매핑하는 방법:\n",
    "- 토큰화 → 임베딩 변환 → 벡터 정규화\n",
    "- OpenAI 임베딩 vs 오픈소스 대안(Sentence-BERT)\n",
    "\n",
    "### FAISS를 활용한 벡터 검색 구현"
   ]
  },
  {
   "cell_type": "code",
   "execution_count": null,
   "id": "cb7b409a",
   "metadata": {},
   "outputs": [],
   "source": [
    "from langchain_openai import OpenAIEmbeddings\n",
    "from langchain_community.vectorstores import FAISS\n",
    "\n",
    "def create_faiss_retriever(documents, top_k=3):\n",
    "    \"\"\"FAISS 벡터 검색기 생성\"\"\"\n",
    "    embeddings = OpenAIEmbeddings()\n",
    "    vectorstore = FAISS.from_documents(documents, embeddings)\n",
    "    return vectorstore.as_retriever(search_kwargs={\"k\": top_k})\n",
    "\n",
    "# 사용 예시\n",
    "faiss_results = faiss_retriever.invoke(\"소프트웨어 성능 개선 요구사항\")"
   ]
  },
  {
   "cell_type": "markdown",
   "id": "6b562b9b",
   "metadata": {
    "lines_to_next_cell": 0
   },
   "source": [
    "### 임베딩 최적화 기법\n",
    "\n",
    "- 배치 처리를 통한 API 비용 절감\n",
    "- 임베딩 캐싱 전략\n",
    "- 문서 청킹 전략 (최적 청크 크기 결정)\n",
    "\n",
    "## 4. 앙상블 검색기 구현\n",
    "\n",
    "### 검색 결과 결합 전략\n",
    "\n",
    "**가중치 기반 결합**:"
   ]
  },
  {
   "cell_type": "code",
   "execution_count": null,
   "id": "a2d8eddb",
   "metadata": {},
   "outputs": [],
   "source": [
    "from langchain.retrievers import EnsembleRetriever\n",
    "\n",
    "def create_ensemble_retriever(bm25_retriever, faiss_retriever, weights=None):\n",
    "    \"\"\"앙상블 검색기 생성\"\"\"\n",
    "    if weights is None:\n",
    "        weights = [0.4, 0.6]  # BM25 40%, FAISS 60%\n",
    "        \n",
    "    return EnsembleRetriever(\n",
    "        retrievers=[bm25_retriever, faiss_retriever],\n",
    "        weights=weights\n",
    "    )"
   ]
  },
  {
   "cell_type": "markdown",
   "id": "bc6f3b4f",
   "metadata": {},
   "source": [
    "**가중치 최적화 실험**:\n",
    "```\n",
    "실험 결과 (Precision@5 기준):\n",
    "- BM25 30% + FAISS 70%: 0.82\n",
    "- BM25 40% + FAISS 60%: 0.87  # 최적 조합\n",
    "- BM25 50% + FAISS 50%: 0.85\n",
    "```\n",
    "\n",
    "### 검색 결과 재랭킹\n",
    "\n",
    "- MMR(Maximum Marginal Relevance)를 활용한 다양성 확보\n",
    "- 문서 길이 페널티 적용\n",
    "- 최신성 가중치 부여\n",
    "\n",
    "## 5. 실제 구현: HybridSearchEngine 클래스"
   ]
  },
  {
   "cell_type": "code",
   "execution_count": null,
   "id": "7a166f44",
   "metadata": {},
   "outputs": [],
   "source": [
    "class HybridSearchEngine:\n",
    "    \"\"\"키워드 검색과 의미 검색을 결합한 하이브리드 검색 엔진\"\"\"\n",
    "\n",
    "    def __init__(self, documents):\n",
    "        self._setup_logging()\n",
    "        self.documents = documents\n",
    "        self.logger.info(\"하이브리드 검색 엔진 초기화 시작\")\n",
    "        \n",
    "        self.bm25_retriever = self._create_bm25_retriever()\n",
    "        self.faiss_retriever = self._create_faiss_retriever()\n",
    "        self.ensemble_retriever = self._create_ensemble_retriever()\n",
    "        \n",
    "        self.logger.info(\"하이브리드 검색 엔진 초기화 완료\")\n",
    "\n",
    "    def search(self, query):\n",
    "        \"\"\"주어진 쿼리로 문서 검색\"\"\"\n",
    "        self.logger.info(f\"검색 쿼리 실행: {query}\")\n",
    "        results = self.ensemble_retriever.invoke(query)\n",
    "        self.logger.info(f\"검색 결과: {len(results)}개 문서\")\n",
    "        return results"
   ]
  },
  {
   "cell_type": "markdown",
   "id": "47c6e317",
   "metadata": {},
   "source": [
    "## 6. 실습: 하이브리드 검색 성능 평가\n",
    "\n",
    "### 평가 지표 설정\n",
    "- Precision@K: 상위 K개 결과 중 관련 문서의 비율\n",
    "- Recall@K: 관련 문서 중 검색된 비율\n",
    "- F1 Score: Precision과 Recall의 조화 평균\n",
    "\n",
    "### 실습 과제\n",
    "1. 샘플 데이터셋에 대해 BM25만 사용한 검색, FAISS만 사용한 검색, 하이브리드 검색 결과 비교\n",
    "2. 다양한 가중치 조합에 따른 검색 결과 변화 분석\n",
    "3. 실제 비즈니스 시나리오에 맞는 최적 가중치 도출"
   ]
  },
  {
   "cell_type": "markdown",
   "id": "7a0e5021",
   "metadata": {
    "lines_to_next_cell": 0
   },
   "source": [
    "### 캐싱 전략"
   ]
  },
  {
   "cell_type": "code",
   "execution_count": null,
   "id": "5bb39f54",
   "metadata": {},
   "outputs": [],
   "source": [
    "# 캐싱 인프라 구현 예시\n",
    "from functools import lru_cache\n",
    "import hashlib\n",
    "from datetime import datetime, timedelta\n",
    "\n",
    "class SearchCacheManager:\n",
    "    def __init__(self, ttl_hours=1):\n",
    "        self.cache = {}\n",
    "        self.cache_ttl = timedelta(hours=ttl_hours)\n",
    "    \n",
    "    def get_cache_key(self, query, params):\n",
    "        \"\"\"검색 쿼리와 파라미터로 캐시 키 생성\"\"\"\n",
    "        key_str = f\"{query}_{str(params)}\"\n",
    "        return hashlib.md5(key_str.encode()).hexdigest()\n",
    "        \n",
    "    def get_cached_result(self, key):\n",
    "        \"\"\"캐시된 결과 조회 (TTL 체크)\"\"\"\n",
    "        if key in self.cache:\n",
    "            entry = self.cache[key]\n",
    "            if datetime.now() < entry['expiry']:\n",
    "                return entry['result']\n",
    "        return None\n",
    "        \n",
    "    def cache_result(self, key, result):\n",
    "        \"\"\"검색 결과 캐싱\"\"\"\n",
    "        self.cache[key] = {\n",
    "            'result': result,\n",
    "            'expiry': datetime.now() + self.cache_ttl\n",
    "        }"
   ]
  },
  {
   "cell_type": "markdown",
   "id": "91fae917",
   "metadata": {},
   "source": [
    "## 8. 마무리 및 다음 단계\n",
    "\n",
    "### 학습 내용 정리\n",
    "- 하이브리드 검색의 원리와 이점\n",
    "- BM25와 FAISS 구현 방법\n",
    "- 앙상블 검색기 최적화 전략\n",
    "\n",
    "### 다음 모듈 연계\n",
    "- 모듈 2에서는 다양한 형식의 문서를 로드하고 전처리하는 방법 학습\n",
    "- 검색 결과를 LLM 분석기에 전달하는 파이프라인 구축\n",
    "\n",
    "---\n",
    "\n",
    "## 참고 자료\n",
    "- [FAISS 공식 문서](https://github.com/facebookresearch/faiss/wiki)\n",
    "- [OpenAI 임베딩 API 가이드](https://platform.openai.com/docs/guides/embeddings)"
   ]
  }
 ],
 "metadata": {
  "jupytext": {
   "cell_metadata_filter": "-all",
   "main_language": "python",
   "notebook_metadata_filter": "-all"
  },
  "kernelspec": {
   "display_name": "Python 3 (ipykernel)",
   "language": "python",
   "name": "python3"
  },
  "language_info": {
   "codemirror_mode": {
    "name": "ipython",
    "version": 3
   },
   "file_extension": ".py",
   "mimetype": "text/x-python",
   "name": "python",
   "nbconvert_exporter": "python",
   "pygments_lexer": "ipython3",
   "version": "3.12.7"
  }
 },
 "nbformat": 4,
 "nbformat_minor": 5
}
