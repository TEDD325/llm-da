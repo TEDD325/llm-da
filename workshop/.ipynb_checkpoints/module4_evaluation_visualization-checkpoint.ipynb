{
 "cells": [
  {
   "cell_type": "markdown",
   "id": "7524e0c5",
   "metadata": {
    "lines_to_next_cell": 0
   },
   "source": [
    "# 모듈 4: 평가 및 시각화\n",
    "\n",
    "## 학습 목표\n",
    "- LLM 기반 문서 분석 평가를 위한 핵심 지표 이해\n",
    "- 분포 인식 평가 구현 방법 학습\n",
    "- 인사이트 분석을 위한 시각화 기법 습득\n",
    "- 시스템 성능 모니터링 대시보드 개발\n",
    "\n",
    "## 1. 분포 인식 평가\n",
    "\n",
    "### 1.1 카테고리 분포 지표\n",
    "- 목표 분포 준수 측정\n",
    "  - 불만 사항: 53%\n",
    "  - 개선 요구: 27%\n",
    "  - 기술적 문제: 16.5%\n",
    "  - 장점: 3.5%\n",
    "- 분포 추적 구현\n",
    "- 분포 드리프트 계산\n",
    "\n",
    "### 1.2 품질 지표\n",
    "- 신뢰도 점수 분석\n",
    "- 의미적 관련성 평가\n",
    "- 카테고리 분류 정확도\n",
    "- 카테고리 간 인사이트 다양성\n",
    "\n",
    "## 2. 시각화 기법\n",
    "\n",
    "### 2.1 분포 시각화"
   ]
  },
  {
   "cell_type": "code",
   "execution_count": null,
   "id": "0ba3da58",
   "metadata": {},
   "outputs": [],
   "source": [
    "import matplotlib.pyplot as plt\n",
    "import seaborn as sns\n",
    "\n",
    "def plot_category_distribution(actual_dist, generated_dist):\n",
    "    categories = ['불만', '개선', '기술', '장점']\n",
    "    \n",
    "    fig, (ax1, ax2) = plt.subplots(1, 2, figsize=(15, 6))\n",
    "    \n",
    "    # 실제 분포\n",
    "    ax1.pie(actual_dist, labels=categories, autopct='%1.1f%%')\n",
    "    ax1.set_title('실제 분포')\n",
    "    \n",
    "    # 생성된 분포\n",
    "    ax2.pie(generated_dist, labels=categories, autopct='%1.1f%%')\n",
    "    ax2.set_title('생성된 분포')\n",
    "    \n",
    "    plt.tight_layout()\n",
    "    return fig"
   ]
  },
  {
   "cell_type": "markdown",
   "id": "cea50f64",
   "metadata": {
    "lines_to_next_cell": 0
   },
   "source": [
    "### 2.2 성능 모니터링"
   ]
  },
  {
   "cell_type": "code",
   "execution_count": null,
   "id": "bec2b014",
   "metadata": {},
   "outputs": [],
   "source": [
    "def plot_performance_metrics(metrics_over_time):\n",
    "    fig, axes = plt.subplots(2, 2, figsize=(15, 10))\n",
    "    \n",
    "    # 신뢰도 점수\n",
    "    sns.lineplot(data=metrics_over_time, x='timestamp', y='confidence_score', ax=axes[0,0])\n",
    "    axes[0,0].set_title('시간에 따른 신뢰도 점수')\n",
    "    \n",
    "    # 분포 준수도\n",
    "    sns.lineplot(data=metrics_over_time, x='timestamp', y='distribution_error', ax=axes[0,1])\n",
    "    axes[0,1].set_title('시간에 따른 분포 오차')\n",
    "    \n",
    "    # 처리 시간\n",
    "    sns.lineplot(data=metrics_over_time, x='timestamp', y='processing_time', ax=axes[1,0])\n",
    "    axes[1,0].set_title('처리 시간')\n",
    "    \n",
    "    # 카테고리 정확도\n",
    "    sns.lineplot(data=metrics_over_time, x='timestamp', y='category_accuracy', ax=axes[1,1])\n",
    "    axes[1,1].set_title('카테고리 분류 정확도')\n",
    "    \n",
    "    plt.tight_layout()\n",
    "    return fig"
   ]
  },
  {
   "cell_type": "markdown",
   "id": "f5c5196f",
   "metadata": {},
   "source": [
    "## 3. 모니터링 대시보드\n",
    "\n",
    "### 3.1 실시간 모니터링\n",
    "- Streamlit 대시보드 설정\n",
    "- 실시간 업데이트 구현\n",
    "- 경고 임계값 구성"
   ]
  },
  {
   "cell_type": "code",
   "execution_count": null,
   "id": "3f25f088",
   "metadata": {},
   "outputs": [],
   "source": [
    "import streamlit as st\n",
    "\n",
    "def create_monitoring_dashboard():\n",
    "    st.title(\"문서 분석 모니터링\")\n",
    "    \n",
    "    # 분포 지표\n",
    "    st.header(\"카테고리 분포\")\n",
    "    distribution_fig = plot_category_distribution(actual_dist, generated_dist)\n",
    "    st.pyplot(distribution_fig)\n",
    "    \n",
    "    # 성능 지표\n",
    "    st.header(\"시스템 성능\")\n",
    "    performance_fig = plot_performance_metrics(metrics_df)\n",
    "    st.pyplot(performance_fig)\n",
    "    \n",
    "    # 경고 설정\n",
    "    st.sidebar.header(\"경고 설정\")\n",
    "    confidence_threshold = st.sidebar.slider(\"신뢰도 점수 임계값\", 0.0, 1.0, 0.8)\n",
    "    distribution_error_threshold = st.sidebar.slider(\"분포 오차 임계값\", 0.0, 1.0, 0.1)"
   ]
  },
  {
   "cell_type": "markdown",
   "id": "debf0603",
   "metadata": {},
   "source": [
    "### 3.2 경고 시스템\n",
    "- 신뢰도 점수 경고\n",
    "- 분포 드리프트 감지\n",
    "- 처리 시간 모니터링\n",
    "- 오류율 추적\n",
    "\n",
    "## 4. 시스템 최적화\n",
    "\n",
    "### 4.1 성능 튜닝\n",
    "- 캐싱 전략\n",
    "- 배치 처리 최적화\n",
    "- 리소스 사용률 모니터링\n",
    "\n",
    "### 4.2 품질 개선\n",
    "- 지표 기반 프롬프트 개선\n",
    "- 분포 조정 기법\n",
    "- 신뢰도 점수 보정\n",
    "\n",
    "## 실습 과제\n",
    "1. 시각화 함수 구현\n",
    "2. 기본 모니터링 대시보드 설정\n",
    "3. 경고 임계값 구성\n",
    "4. 제공된 지표를 사용하여 시스템 성능 분석\n",
    "\n",
    "## 추가 자료\n",
    "- Matplotlib 문서\n",
    "- Streamlit 튜토리얼\n",
    "- 모니터링 모범 사례\n",
    "- 성능 최적화 가이드\n",
    "\n",
    "## 평가\n",
    "1. 인사이트 분석을 위한 맞춤형 시각화 만들기\n",
    "2. 실시간 모니터링 대시보드 구현\n",
    "3. 경고 시스템 구성 및 테스트\n",
    "4. 지표를 기반으로 시스템 성능 최적화"
   ]
  }
 ],
 "metadata": {
  "jupytext": {
   "cell_metadata_filter": "-all",
   "main_language": "python",
   "notebook_metadata_filter": "-all"
  }
 },
 "nbformat": 4,
 "nbformat_minor": 5
}
